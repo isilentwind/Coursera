{
 "cells": [
  {
   "cell_type": "markdown",
   "id": "8175dadd",
   "metadata": {},
   "source": [
    "<H1>Data Science Tools and Ecosystem</H1>"
   ]
  },
  {
   "cell_type": "markdown",
   "id": "452d88d7",
   "metadata": {},
   "source": [
    "In this notebook, Data Science Tools and Ecosystem are summarized."
   ]
  },
  {
   "cell_type": "markdown",
   "id": "8d2b50ea",
   "metadata": {},
   "source": [
    "**Objectives:**\n",
    "* python\n",
    "* R\n",
    "* pytorch\n",
    "* caffe"
   ]
  },
  {
   "cell_type": "markdown",
   "id": "db23c948",
   "metadata": {},
   "source": [
    "Some of the popular languages that Data Scientists use are:"
   ]
  },
  {
   "cell_type": "markdown",
   "id": "27ac67ca",
   "metadata": {},
   "source": [
    "\n",
    "1. Python\n",
    "1. Sci-kit\n",
    "1. R"
   ]
  },
  {
   "cell_type": "markdown",
   "id": "2639a34a",
   "metadata": {},
   "source": [
    "Some of the commonly used libraries used by Data Scientists include:"
   ]
  },
  {
   "cell_type": "markdown",
   "id": "2be19ce7",
   "metadata": {},
   "source": [
    "\n",
    "1. tensorflow\n",
    "1. pandas\n",
    "1. numpy"
   ]
  },
  {
   "cell_type": "markdown",
   "id": "da62748c",
   "metadata": {},
   "source": [
    "Data Science Tools"
   ]
  },
  {
   "cell_type": "markdown",
   "id": "4e920b26",
   "metadata": {},
   "source": [
    "| 1 | 2 | 3 |\n",
    "|---|---|---|\n",
    "|VS Code|Budibase|Vercel |"
   ]
  },
  {
   "cell_type": "markdown",
   "id": "1d0f3106",
   "metadata": {},
   "source": [
    "<H3>Below are a few examples of evaluating arithmetic expressions in Python.</H3>"
   ]
  },
  {
   "cell_type": "code",
   "execution_count": 5,
   "id": "c0d1a146",
   "metadata": {},
   "outputs": [
    {
     "data": {
      "text/plain": [
       "17"
      ]
     },
     "execution_count": 5,
     "metadata": {},
     "output_type": "execute_result"
    }
   ],
   "source": [
    "#This a simple arithmetic expression to mutiply then add integers\n",
    "(3*4)+5"
   ]
  },
  {
   "cell_type": "code",
   "execution_count": 6,
   "id": "1d317698",
   "metadata": {},
   "outputs": [
    {
     "data": {
      "text/plain": [
       "3"
      ]
     },
     "execution_count": 6,
     "metadata": {},
     "output_type": "execute_result"
    }
   ],
   "source": [
    "#This will convert 200 minutes to hours by diving by 60\n",
    "200//60"
   ]
  },
  {
   "cell_type": "markdown",
   "id": "ecc30362",
   "metadata": {},
   "source": [
    "<H2>Author</H2>\n",
    "Austin Ryu(Byung-soo Ryu)"
   ]
  },
  {
   "cell_type": "code",
   "execution_count": null,
   "id": "002ac7ce",
   "metadata": {},
   "outputs": [],
   "source": []
  }
 ],
 "metadata": {
  "kernelspec": {
   "display_name": "Python 3 (ipykernel)",
   "language": "python",
   "name": "python3"
  },
  "language_info": {
   "codemirror_mode": {
    "name": "ipython",
    "version": 3
   },
   "file_extension": ".py",
   "mimetype": "text/x-python",
   "name": "python",
   "nbconvert_exporter": "python",
   "pygments_lexer": "ipython3",
   "version": "3.7.16"
  }
 },
 "nbformat": 4,
 "nbformat_minor": 5
}
